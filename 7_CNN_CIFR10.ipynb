{
 "cells": [
  {
   "cell_type": "code",
   "execution_count": 1,
   "metadata": {},
   "outputs": [],
   "source": [
    "import torch\n",
    "import torchvision\n",
    "from torchvision.datasets import MNIST\n",
    "from torch.utils.data import TensorDataset,DataLoader,random_split\n",
    "from torch.utils.data.sampler import SubsetRandomSampler\n",
    "from torchvision.transforms import ToTensor\n",
    "import numpy as np\n",
    "import matplotlib.pyplot as plt\n",
    "from torchvision.utils import make_grid\n",
    "import torch.nn as nn\n",
    "import torch.nn.functional as F\n",
    "from torchvision.datasets.utils import download_url\n",
    "import tarfile\n",
    "from torchvision.datasets import ImageFolder"
   ]
  },
  {
   "cell_type": "code",
   "execution_count": 4,
   "metadata": {},
   "outputs": [
    {
     "name": "stdout",
     "output_type": "stream",
     "text": [
      "Downloading https://s3.amazonaws.com/fast-ai-imageclas/cifar10.tgz to .\\cifar10.tgz\n"
     ]
    },
    {
     "name": "stderr",
     "output_type": "stream",
     "text": [
      "100.0%\n"
     ]
    }
   ],
   "source": [
    "dataset_url = \"https://s3.amazonaws.com/fast-ai-imageclas/cifar10.tgz\"\n",
    "download_url(dataset_url, '.')"
   ]
  },
  {
   "cell_type": "code",
   "execution_count": 6,
   "metadata": {},
   "outputs": [],
   "source": [
    "with tarfile.open('./cifar10.tgz','r:gz') as tr:\n",
    "    tr.extractall(path='./data')"
   ]
  },
  {
   "cell_type": "code",
   "execution_count": 26,
   "metadata": {},
   "outputs": [
    {
     "name": "stdout",
     "output_type": "stream",
     "text": [
      "['airplane', 'automobile', 'bird', 'cat', 'deer', 'dog', 'frog', 'horse', 'ship', 'truck']\n",
      "['airplane', 'automobile', 'bird', 'cat', 'deer', 'dog', 'frog', 'horse', 'ship', 'truck']\n"
     ]
    }
   ],
   "source": [
    "import os\n",
    "data_dir = './data/cifar10'\n",
    "\n",
    "print(os.listdir(path = data_dir + '/train'))\n",
    "classes = os.listdir(path = data_dir + '/train')\n",
    "print(classes)"
   ]
  },
  {
   "cell_type": "code",
   "execution_count": 27,
   "metadata": {},
   "outputs": [],
   "source": [
    "train_dir = data_dir + '/train'\n",
    "test_dir = data_dir + '/test'\n",
    "\n",
    "train_dataset = ImageFolder(root=train_dir,transform=ToTensor())\n",
    "test_dataset = ImageFolder(root=test_dir,transform=ToTensor())"
   ]
  },
  {
   "cell_type": "code",
   "execution_count": 28,
   "metadata": {},
   "outputs": [
    {
     "data": {
      "text/plain": [
       "Text(0.5, 1.0, 'airplane')"
      ]
     },
     "execution_count": 28,
     "metadata": {},
     "output_type": "execute_result"
    },
    {
     "data": {
      "image/png": "[encoded data removed]",
      "text/plain": [
       "<Figure size 432x288 with 1 Axes>"
      ]
     },
     "metadata": {
      "needs_background": "light"
     },
     "output_type": "display_data"
    }
   ],
   "source": [
    "img,label = train_dataset[3]\n",
    "plt.imshow(img.permute(1,2,0).numpy())\n",
    "plt.title(classes[label])"
   ]
  },
  {
   "cell_type": "code",
   "execution_count": 29,
   "metadata": {},
   "outputs": [
    {
     "data": {
      "text/plain": [
       "Text(0.5, 1.0, 'airplane')"
      ]
     },
     "execution_count": 29,
     "metadata": {},
     "output_type": "execute_result"
    },
    {
     "data": {
      "image/png": "[encoded data removed]",
      "text/plain": [
       "<Figure size 432x288 with 1 Axes>"
      ]
     },
     "metadata": {
      "needs_background": "light"
     },
     "output_type": "display_data"
    }
   ],
   "source": [
    "img,label = test_dataset[0]\n",
    "plt.imshow(img.permute(1,2,0).numpy())\n",
    "plt.title(classes[label])"
   ]
  },
  {
   "cell_type": "code",
   "execution_count": 30,
   "metadata": {},
   "outputs": [
    {
     "name": "stdout",
     "output_type": "stream",
     "text": [
      "42500 7500\n"
     ]
    },
    {
     "data": {
      "text/plain": [
       "<torch._C.Generator at 0x14398348d30>"
      ]
     },
     "execution_count": 30,
     "metadata": {},
     "output_type": "execute_result"
    }
   ],
   "source": [
    "# Constants\n",
    "\n",
    "BATCH_SIZE = 64\n",
    "random_seed = 42\n",
    "Data_available = len(train_dataset)\n",
    "training_data_size = int(0.85*Data_available)\n",
    "validation_data_size = Data_available - training_data_size\n",
    "print(training_data_size,validation_data_size)\n",
    "\n",
    "torch.manual_seed(random_seed)"
   ]
  },
  {
   "cell_type": "code",
   "execution_count": 31,
   "metadata": {},
   "outputs": [],
   "source": [
    "train_dl,val_dl = random_split(train_dataset,lengths=[training_data_size,validation_data_size])"
   ]
  },
  {
   "cell_type": "code",
   "execution_count": 32,
   "metadata": {},
   "outputs": [],
   "source": [
    "train_dl = DataLoader(train_dl,batch_size=BATCH_SIZE,shuffle=True,pin_memory=True)\n",
    "val_dl = DataLoader(val_dl,batch_size=BATCH_SIZE,pin_memory=True)"
   ]
  },
  {
   "cell_type": "code",
   "execution_count": 33,
   "metadata": {},
   "outputs": [],
   "source": [
    "def apply_kernel(image,kernel):\n",
    "    ri, ci = image.shape\n",
    "    rk, ck = kernel.shape\n",
    "    ro, co = ri-rk+1, ci-ck+1\n",
    "    output = torch.zeros([ro,co])\n",
    "    for i in range(ro):\n",
    "        for j in range(co):\n",
    "            output[i,j] = torch.sum(image[i:i+rk,j:j+ck]*kernel)\n",
    "    return output"
   ]
  },
  {
   "cell_type": "code",
   "execution_count": 34,
   "metadata": {},
   "outputs": [],
   "source": [
    "sample_image = torch.tensor([\n",
    "    [2,2,2,0,0,1],\n",
    "    [1,1,1,1,1,1],\n",
    "    [1,0,0,0,0,0],\n",
    "    [2,3,5,6,7,8],\n",
    "    [1,2,3,4,5,6]\n",
    "],dtype=torch.float32)\n",
    "\n",
    "sample_kernel = torch.tensor([\n",
    "    [0,1,0],\n",
    "    [0,1,0],\n",
    "    [0,1,0]\n",
    "],dtype=torch.float32)"
   ]
  },
  {
   "cell_type": "code",
   "execution_count": 35,
   "metadata": {},
   "outputs": [
    {
     "data": {
      "text/plain": [
       "<matplotlib.image.AxesImage at 0x143af3111f0>"
      ]
     },
     "execution_count": 35,
     "metadata": {},
     "output_type": "execute_result"
    },
    {
     "data": {
      "image/png": "[encoded data removed]",
      "text/plain": [
       "<Figure size 432x288 with 1 Axes>"
      ]
     },
     "metadata": {
      "needs_background": "light"
     },
     "output_type": "display_data"
    }
   ],
   "source": [
    "plt.imshow(sample_image.numpy(),cmap ='gray')\n",
    "plt.imshow(sample_kernel.numpy(),cmap='gray')"
   ]
  },
  {
   "cell_type": "code",
   "execution_count": 36,
   "metadata": {},
   "outputs": [
    {
     "data": {
      "text/plain": [
       "<matplotlib.image.AxesImage at 0x1438201dac0>"
      ]
     },
     "execution_count": 36,
     "metadata": {},
     "output_type": "execute_result"
    },
    {
     "data": {
      "image/png": "[encoded data removed]",
      "text/plain": [
       "<Figure size 432x288 with 1 Axes>"
      ]
     },
     "metadata": {
      "needs_background": "light"
     },
     "output_type": "display_data"
    }
   ],
   "source": [
    "output = apply_kernel(sample_image,sample_kernel)\n",
    "plt.imshow(output.numpy(),cmap = \"gray\")"
   ]
  },
  {
   "cell_type": "code",
   "execution_count": 37,
   "metadata": {},
   "outputs": [
    {
     "data": {
      "text/plain": [
       "'dummpy_model = nn.Sequential(\\n    nn.Conv2d(3,8,kernel_size=3,stride=1,padding=1),\\n    nn.ReLU(),\\n    nn.Conv2d(8,32,kernel_size=3,stride=1,padding=1),\\n    nn.LeakyReLU(),\\n    nn.MaxPool2d(kernel_size=2,stride=2),\\n    nn.Flatten(),\\n    nn.Linear(32*16*16,10),\\n    nn.LogSoftmax()\\n)'"
      ]
     },
     "execution_count": 37,
     "metadata": {},
     "output_type": "execute_result"
    }
   ],
   "source": [
    "'''dummpy_model = nn.Sequential(\n",
    "    nn.Conv2d(3,8,kernel_size=3,stride=1,padding=1),\n",
    "    nn.ReLU(),\n",
    "    nn.Conv2d(8,32,kernel_size=3,stride=1,padding=1),\n",
    "    nn.LeakyReLU(),\n",
    "    nn.MaxPool2d(kernel_size=2,stride=2),\n",
    "    nn.Flatten(),\n",
    "    nn.Linear(32*16*16,10),\n",
    "    nn.LogSoftmax()\n",
    ")'''\n"
   ]
  },
  {
   "cell_type": "code",
   "execution_count": 38,
   "metadata": {},
   "outputs": [
    {
     "data": {
      "text/plain": [
       "\"for img,label in train_dl:\\n    print('Imput image Shape :- ',img.shape)\\n    out = dummpy_model(img)\\n    print('Output Images Shape :- ',out.shape)\\n    print(out)\\n    break\""
      ]
     },
     "execution_count": 38,
     "metadata": {},
     "output_type": "execute_result"
    }
   ],
   "source": [
    "'''for img,label in train_dl:\n",
    "    print('Imput image Shape :- ',img.shape)\n",
    "    out = dummpy_model(img)\n",
    "    print('Output Images Shape :- ',out.shape)\n",
    "    print(out)\n",
    "    break'''"
   ]
  },
  {
   "cell_type": "code",
   "execution_count": 39,
   "metadata": {},
   "outputs": [],
   "source": [
    "def accuracy(output,label):\n",
    "    _, pred = torch.max(output,dim=1)\n",
    "    return torch.tensor(torch.sum(pred==label).item()/len(pred))"
   ]
  },
  {
   "cell_type": "code",
   "execution_count": 40,
   "metadata": {},
   "outputs": [],
   "source": [
    "class Image_Classification_Base(nn.Module):\n",
    "    \n",
    "    # Performs a step of feed-forward and calculates the cross entropy loss\n",
    "    def training_step(self,batch):\n",
    "        img, label = batch\n",
    "        out = self(img)\n",
    "        loss = F.cross_entropy(out, label)\n",
    "        return loss\n",
    "    \n",
    "    def validation_step(self,batch):\n",
    "        img, label = batch\n",
    "        out = self(img)\n",
    "        loss = F.cross_entropy(out,label)\n",
    "        acc = accuracy(out,label)\n",
    "        return {'val_loss':loss.detach(),'val_acc':acc}\n",
    "\n",
    "    def validation_epoch_end(self,output):\n",
    "        batch_loss = [x['val_loss']for x in output]\n",
    "        epoch_loss = torch.stack(batch_loss).mean()\n",
    "        batch_acc = [x['val_acc'] for x in output]\n",
    "        epoch_acc = torch.stack(batch_acc).mean()\n",
    "        return {'val_loss':epoch_loss.item(), 'val_acc':epoch_acc.item()}\n",
    "\n",
    "    def epoch_end(self,epoch_no,result):\n",
    "        print(\"Epochs [{}], Train Loss :- {:4f}, Val Loss :- {:4f}, Val Accuracy :- {:4f}\"\n",
    "        .format(epoch_no,result['train_loss'],result['val_loss'],result['val_acc']))\n",
    "    "
   ]
  },
  {
   "cell_type": "code",
   "execution_count": 41,
   "metadata": {},
   "outputs": [],
   "source": [
    "class CIFR10_CNN_Model(Image_Classification_Base):\n",
    "    def __init__(self):\n",
    "        super().__init__()\n",
    "        self.Model = nn.Sequential(\n",
    "            nn.Conv2d(3,32,kernel_size=3,padding=1),\n",
    "            nn.LeakyReLU(),\n",
    "            nn.Conv2d(32,64,kernel_size=3,padding=1,stride=1),\n",
    "            nn.LeakyReLU(),\n",
    "            nn.MaxPool2d(2,2),\n",
    "\n",
    "            nn.Conv2d(64,128,kernel_size=3,padding=1,stride=1),\n",
    "            nn.LeakyReLU(),\n",
    "            nn.Conv2d(128,128,kernel_size=3,padding=1,stride=1),\n",
    "            nn.LeakyReLU(),\n",
    "            nn.MaxPool2d(2,2),\n",
    "\n",
    "            nn.Conv2d(128,256,kernel_size=3,padding=1,stride=1),\n",
    "            nn.LeakyReLU(),\n",
    "            nn.Conv2d(256,256,kernel_size=3,padding=1,stride=1),\n",
    "            nn.LeakyReLU(),\n",
    "            nn.MaxPool2d(2,2),\n",
    "\n",
    "            nn.Flatten(),\n",
    "            nn.Linear(256*4*4,1024),\n",
    "            nn.LeakyReLU(),\n",
    "            nn.Linear(1024,512),\n",
    "            nn.LeakyReLU(),\n",
    "            nn.Linear(512,10),\n",
    "            nn.LogSoftmax()\n",
    "        )\n",
    "\n",
    "    def forward(self,xb):\n",
    "        return self.Model(xb)"
   ]
  },
  {
   "cell_type": "code",
   "execution_count": 42,
   "metadata": {},
   "outputs": [
    {
     "data": {
      "text/plain": [
       "CIFR10_CNN_Model(\n",
       "  (Model): Sequential(\n",
       "    (0): Conv2d(3, 32, kernel_size=(3, 3), stride=(1, 1), padding=(1, 1))\n",
       "    (1): LeakyReLU(negative_slope=0.01)\n",
       "    (2): Conv2d(32, 64, kernel_size=(3, 3), stride=(1, 1), padding=(1, 1))\n",
       "    (3): LeakyReLU(negative_slope=0.01)\n",
       "    (4): MaxPool2d(kernel_size=2, stride=2, padding=0, dilation=1, ceil_mode=False)\n",
       "    (5): Conv2d(64, 128, kernel_size=(3, 3), stride=(1, 1), padding=(1, 1))\n",
       "    (6): LeakyReLU(negative_slope=0.01)\n",
       "    (7): Conv2d(128, 128, kernel_size=(3, 3), stride=(1, 1), padding=(1, 1))\n",
       "    (8): LeakyReLU(negative_slope=0.01)\n",
       "    (9): MaxPool2d(kernel_size=2, stride=2, padding=0, dilation=1, ceil_mode=False)\n",
       "    (10): Conv2d(128, 256, kernel_size=(3, 3), stride=(1, 1), padding=(1, 1))\n",
       "    (11): LeakyReLU(negative_slope=0.01)\n",
       "    (12): Conv2d(256, 256, kernel_size=(3, 3), stride=(1, 1), padding=(1, 1))\n",
       "    (13): LeakyReLU(negative_slope=0.01)\n",
       "    (14): MaxPool2d(kernel_size=2, stride=2, padding=0, dilation=1, ceil_mode=False)\n",
       "    (15): Flatten(start_dim=1, end_dim=-1)\n",
       "    (16): Linear(in_features=4096, out_features=1024, bias=True)\n",
       "    (17): LeakyReLU(negative_slope=0.01)\n",
       "    (18): Linear(in_features=1024, out_features=512, bias=True)\n",
       "    (19): LeakyReLU(negative_slope=0.01)\n",
       "    (20): Linear(in_features=512, out_features=10, bias=True)\n",
       "    (21): LogSoftmax(dim=None)\n",
       "  )\n",
       ")"
      ]
     },
     "execution_count": 42,
     "metadata": {},
     "output_type": "execute_result"
    }
   ],
   "source": [
    "model = CIFR10_CNN_Model()\n",
    "model"
   ]
  },
  {
   "cell_type": "code",
   "execution_count": 43,
   "metadata": {},
   "outputs": [],
   "source": [
    "def get_default_device():\n",
    "    if torch.cuda.is_available:\n",
    "        return torch.device('cuda')\n",
    "    else:\n",
    "        return torch.device('cpu')\n",
    "\n",
    "def to_device(data,device):\n",
    "    if isinstance(data,(list,tuple)):\n",
    "        return [to_device(x,device) for x in data]\n",
    "    return data.to(device,non_blocking=True)\n",
    "\n",
    "class DeviceDataLoader():\n",
    "    def __init__(self,dl,device):\n",
    "        self.dl = dl\n",
    "        self.device = device\n",
    "    \n",
    "    def __iter__(self):\n",
    "        for b in self.dl:\n",
    "            yield to_device(b,self.device)\n",
    "\n",
    "    def __len__(self):\n",
    "        return len(self.dl) \n"
   ]
  },
  {
   "cell_type": "code",
   "execution_count": 44,
   "metadata": {},
   "outputs": [
    {
     "data": {
      "text/plain": [
       "device(type='cuda')"
      ]
     },
     "execution_count": 44,
     "metadata": {},
     "output_type": "execute_result"
    }
   ],
   "source": [
    "device = get_default_device()\n",
    "device"
   ]
  },
  {
   "cell_type": "code",
   "execution_count": 45,
   "metadata": {},
   "outputs": [],
   "source": [
    "train_dl = DeviceDataLoader(train_dl, device)\n",
    "val_dl = DeviceDataLoader(val_dl, device)\n",
    "to_device(model, device);"
   ]
  },
  {
   "cell_type": "code",
   "execution_count": 46,
   "metadata": {},
   "outputs": [],
   "source": [
    "@torch.no_grad()\n",
    "def evaluate(model, val_loader):\n",
    "    model.eval()\n",
    "    outputs = [model.validation_step(batch) for batch in val_loader]\n",
    "    return model.validation_epoch_end(outputs)\n",
    "\n",
    "def fit(epochs, lr, model, train_loader, val_loader, opt_func=torch.optim.SGD):\n",
    "    history = []\n",
    "    optimizer = opt_func(model.parameters(), lr)\n",
    "    for epoch in range(epochs):\n",
    "        # Training Phase \n",
    "        model.train()\n",
    "        train_losses = []\n",
    "        for batch in train_loader:\n",
    "            loss = model.training_step(batch)\n",
    "            train_losses.append(loss)\n",
    "            loss.backward()\n",
    "            optimizer.step()\n",
    "            optimizer.zero_grad()\n",
    "        # Validation phase\n",
    "        result = evaluate(model, val_loader)\n",
    "        result['train_loss'] = torch.stack(train_losses).mean().item()\n",
    "        model.epoch_end(epoch, result)\n",
    "        history.append(result)\n",
    "    return history"
   ]
  },
  {
   "cell_type": "code",
   "execution_count": 47,
   "metadata": {},
   "outputs": [],
   "source": [
    "model = to_device(CIFR10_CNN_Model(), device)"
   ]
  },
  {
   "cell_type": "code",
   "execution_count": 48,
   "metadata": {},
   "outputs": [],
   "source": [
    "num_epochs = 10\n",
    "opt_func = torch.optim.Adam\n",
    "lr = 0.001"
   ]
  },
  {
   "cell_type": "code",
   "execution_count": 49,
   "metadata": {},
   "outputs": [
    {
     "name": "stderr",
     "output_type": "stream",
     "text": [
      "C:\\Users\\prasa\\miniconda3\\envs\\PyTorch\\lib\\site-packages\\torch\\nn\\modules\\container.py:141: UserWarning: Implicit dimension choice for log_softmax has been deprecated. Change the call to include dim=X as an argument.\n",
      "  input = module(input)\n"
     ]
    },
    {
     "name": "stdout",
     "output_type": "stream",
     "text": [
      "Epochs [0], Train Loss :- 1.678362, Val Loss :- 1.280540, Val Accuracy :- 0.523791\n",
      "Epochs [1], Train Loss :- 1.107630, Val Loss :- 1.067452, Val Accuracy :- 0.623852\n",
      "Epochs [2], Train Loss :- 0.846654, Val Loss :- 0.830544, Val Accuracy :- 0.710761\n",
      "Epochs [3], Train Loss :- 0.655387, Val Loss :- 0.732573, Val Accuracy :- 0.752737\n",
      "Epochs [4], Train Loss :- 0.513867, Val Loss :- 0.723470, Val Accuracy :- 0.764698\n",
      "Epochs [5], Train Loss :- 0.377518, Val Loss :- 0.806924, Val Accuracy :- 0.763286\n",
      "Epochs [6], Train Loss :- 0.278269, Val Loss :- 0.804113, Val Accuracy :- 0.773438\n",
      "Epochs [7], Train Loss :- 0.197424, Val Loss :- 0.909001, Val Accuracy :- 0.767082\n",
      "Epochs [8], Train Loss :- 0.150672, Val Loss :- 1.031591, Val Accuracy :- 0.768450\n",
      "Epochs [9], Train Loss :- 0.134359, Val Loss :- 1.127225, Val Accuracy :- 0.764036\n"
     ]
    }
   ],
   "source": [
    "history = fit(num_epochs, lr, model, train_dl, val_dl, opt_func)"
   ]
  },
  {
   "cell_type": "code",
   "execution_count": 50,
   "metadata": {},
   "outputs": [],
   "source": [
    "def plot_accuracies(history):\n",
    "    accuracies = [x['val_acc'] for x in history]\n",
    "    plt.plot(accuracies, '-x')\n",
    "    plt.xlabel('epoch')\n",
    "    plt.ylabel('accuracy')\n",
    "    plt.title('Accuracy vs. No. of epochs')"
   ]
  },
  {
   "cell_type": "code",
   "execution_count": 51,
   "metadata": {},
   "outputs": [
    {
     "data": {
      "image/png": "[encoded data removed]",
      "text/plain": [
       "<Figure size 432x288 with 1 Axes>"
      ]
     },
     "metadata": {
      "needs_background": "light"
     },
     "output_type": "display_data"
    }
   ],
   "source": [
    "plot_accuracies(history)"
   ]
  },
  {
   "cell_type": "code",
   "execution_count": 52,
   "metadata": {},
   "outputs": [],
   "source": [
    "def plot_losses(history):\n",
    "    train_losses = [x.get('train_loss') for x in history]\n",
    "    val_losses = [x['val_loss'] for x in history]\n",
    "    plt.plot(train_losses, '-bx')\n",
    "    plt.plot(val_losses, '-rx')\n",
    "    plt.xlabel('epoch')\n",
    "    plt.ylabel('loss')\n",
    "    plt.legend(['Training', 'Validation'])\n",
    "    plt.title('Loss vs. No. of epochs')"
   ]
  },
  {
   "cell_type": "code",
   "execution_count": 53,
   "metadata": {},
   "outputs": [
    {
     "data": {
      "image/png": "[encoded data removed]",
      "text/plain": [
       "<Figure size 432x288 with 1 Axes>"
      ]
     },
     "metadata": {
      "needs_background": "light"
     },
     "output_type": "display_data"
    }
   ],
   "source": [
    "plot_losses(history)"
   ]
  },
  {
   "cell_type": "code",
   "execution_count": 54,
   "metadata": {},
   "outputs": [],
   "source": [
    "torch.save(model.state_dict(), 'cifar10-cnn.pth')"
   ]
  },
  {
   "cell_type": "code",
   "execution_count": 56,
   "metadata": {},
   "outputs": [],
   "source": [
    "model2 = to_device(CIFR10_CNN_Model(), device)"
   ]
  },
  {
   "cell_type": "code",
   "execution_count": 57,
   "metadata": {},
   "outputs": [
    {
     "data": {
      "text/plain": [
       "<All keys matched successfully>"
      ]
     },
     "execution_count": 57,
     "metadata": {},
     "output_type": "execute_result"
    }
   ],
   "source": [
    "model2.load_state_dict(torch.load('cifar10-cnn.pth'))"
   ]
  },
  {
   "cell_type": "code",
   "execution_count": 58,
   "metadata": {},
   "outputs": [
    {
     "name": "stderr",
     "output_type": "stream",
     "text": [
      "C:\\Users\\prasa\\miniconda3\\envs\\PyTorch\\lib\\site-packages\\torch\\nn\\modules\\container.py:141: UserWarning: Implicit dimension choice for log_softmax has been deprecated. Change the call to include dim=X as an argument.\n",
      "  input = module(input)\n"
     ]
    },
    {
     "data": {
      "text/plain": [
       "{'val_loss': 1.1069443225860596, 'val_acc': 0.759255588054657}"
      ]
     },
     "execution_count": 58,
     "metadata": {},
     "output_type": "execute_result"
    }
   ],
   "source": [
    "test_dl = DeviceDataLoader(DataLoader(test_dataset,BATCH_SIZE),device)\n",
    "evaluate(model2, test_dl)"
   ]
  }
 ],
 "metadata": {
  "interpreter": {
   "hash": "3be213d8bfbc871ad0c6f0c44387711c5c1c4a3c2bb81f93da9de2afb7c1e9ea"
  },
  "kernelspec": {
   "display_name": "Python 3.9.7 64-bit ('PyTorch': conda)",
   "language": "python",
   "name": "python3"
  },
  "language_info": {
   "codemirror_mode": {
    "name": "ipython",
    "version": 3
   },
   "file_extension": ".py",
   "mimetype": "text/x-python",
   "name": "python",
   "nbconvert_exporter": "python",
   "pygments_lexer": "ipython3",
   "version": "3.8.12"
  },
  "orig_nbformat": 4
 },
 "nbformat": 4,
 "nbformat_minor": 2
}
